{
 "cells": [
  {
   "cell_type": "code",
   "execution_count": 6,
   "metadata": {},
   "outputs": [
    {
     "ename": "SyntaxError",
     "evalue": "unexpected EOF while parsing (<ipython-input-6-e2d6dd96e474>, line 78)",
     "output_type": "error",
     "traceback": [
      "\u001b[0;36m  File \u001b[0;32m\"<ipython-input-6-e2d6dd96e474>\"\u001b[0;36m, line \u001b[0;32m78\u001b[0m\n\u001b[0;31m    \u001b[0m\n\u001b[0m    ^\u001b[0m\n\u001b[0;31mSyntaxError\u001b[0m\u001b[0;31m:\u001b[0m unexpected EOF while parsing\n"
     ]
    }
   ],
   "source": [
    "from __future__ import print_function\n",
    "from AppKit import NSWorkspace\n",
    "import time\n",
    "import csv\n",
    "from os import system\n",
    "from Foundation import *\n",
    "from dateutil import parser\n",
    "import datetime\n",
    "from urllib.parse import urlparse\n",
    "import re\n",
    "import os\n",
    "\n",
    "\n",
    "def find_csv_filenames(suffix=\".csv\" ):\n",
    "    filenames = os.listdir()\n",
    "    return [ filename for filename in filenames if filename.endswith( suffix ) ]\n",
    "\n",
    "\n",
    "active_window_name = \"\"\n",
    "activity_name = \"\"\n",
    "start_time = datetime.datetime.now()\n",
    "current_window = \"\"\n",
    "\n",
    "currentDT = datetime.datetime.now()\n",
    "today = currentDT.strftime(\"%d_%m_%y\")\n",
    "\n",
    "os.chdir('/Users/ruairi/Google Drive/Code/Python/time tracker/Outputs/')\n",
    "\n",
    "\n",
    "\n",
    "path = str('Mac_timer_' + today + '.csv')\n",
    "result = find_csv_filenames(suffix=path)\n",
    "\n",
    "# check if entry exists for today\n",
    "if len(result) < 1:\n",
    "    print('First entry of the day, creating file.')\n",
    "    outputFile = open(path, 'w', newline='')\n",
    "    outputWriter = csv.writer(outputFile)\n",
    "    outputWriter.writerow(['Location', 'Date', 'Start'])\n",
    "    \n",
    "elif len(result) > 0 :\n",
    "    print('Not the first entry of the day, appending to existing file.')\n",
    "    outputFile =open(path, 'a')\n",
    "    outputWriter = csv.writer(outputFile)\n",
    "    outputWriter.writerow(['420', 'blaze', 'et'])\n",
    "        \n",
    "        \n",
    "        \n",
    "        \n",
    "try:\n",
    "    while True:\n",
    "        # get the current window\n",
    "        new_window =(NSWorkspace.sharedWorkspace()\n",
    "        .activeApplication()['NSApplicationName'])\n",
    "        window_start_time = datetime.datetime.now()\n",
    "        window_start_time = window_start_time.strftime(\"%H:%M:%S\")\n",
    "\n",
    "\n",
    "        # if the window changes\n",
    "        if current_window != new_window:\n",
    "\n",
    "            result = new_window\n",
    "            print(window_start_time, result)\n",
    "            outputWriter.writerow([result, today, window_start_time])\n",
    "\n",
    "\n",
    "            if 'Google Chrome' in new_window:\n",
    "                textOfMyScript = \"\"\"tell app \"google chrome\" to get the url of the active tab of window 1\"\"\"\n",
    "                s = NSAppleScript.initWithSource_(\n",
    "                        NSAppleScript.alloc(), textOfMyScript)\n",
    "                results, err = s.executeAndReturnError_(None)\n",
    "                parsed_uri = urlparse(results.stringValue())\n",
    "                result = '{uri.scheme}://{uri.netloc}/'.format(uri=parsed_uri)\n",
    "                result = re.sub('https://', '', result)\n",
    "                result = re.sub('/', '', result)\n",
    "                print(window_start_time, result)\n",
    "            \n",
    "            outputWriter.writerow([result, today, window_start_time])\n",
    "            \n",
    "            \n",
    "            current_window = new_window\n",
    "\n"
   ]
  },
  {
   "cell_type": "code",
   "execution_count": null,
   "metadata": {},
   "outputs": [],
   "source": []
  },
  {
   "cell_type": "code",
   "execution_count": null,
   "metadata": {},
   "outputs": [],
   "source": []
  }
 ],
 "metadata": {
  "kernelspec": {
   "display_name": "Python 3",
   "language": "python",
   "name": "python3"
  },
  "language_info": {
   "codemirror_mode": {
    "name": "ipython",
    "version": 3
   },
   "file_extension": ".py",
   "mimetype": "text/x-python",
   "name": "python",
   "nbconvert_exporter": "python",
   "pygments_lexer": "ipython3",
   "version": "3.7.4"
  }
 },
 "nbformat": 4,
 "nbformat_minor": 2
}
